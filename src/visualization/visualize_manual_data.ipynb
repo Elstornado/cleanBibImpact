{
 "cells": [
  {
   "cell_type": "code",
   "execution_count": 1,
   "metadata": {
    "scrolled": true
   },
   "outputs": [
    {
     "data": {
      "text/html": [
       "<div>\n",
       "<style scoped>\n",
       "    .dataframe tbody tr th:only-of-type {\n",
       "        vertical-align: middle;\n",
       "    }\n",
       "\n",
       "    .dataframe tbody tr th {\n",
       "        vertical-align: top;\n",
       "    }\n",
       "\n",
       "    .dataframe thead th {\n",
       "        text-align: right;\n",
       "    }\n",
       "</style>\n",
       "<table border=\"1\" class=\"dataframe\">\n",
       "  <thead>\n",
       "    <tr style=\"text-align: right;\">\n",
       "      <th></th>\n",
       "      <th>paper_opencitations</th>\n",
       "      <th>code_opencitations</th>\n",
       "      <th>paper_googlescholar</th>\n",
       "      <th>code_googlescholar</th>\n",
       "      <th>title</th>\n",
       "      <th>bassett_author</th>\n",
       "      <th>arxiv</th>\n",
       "      <th>doi</th>\n",
       "      <th>preprint</th>\n",
       "      <th>paper_citation</th>\n",
       "      <th>code_citation</th>\n",
       "      <th>diversity_statement</th>\n",
       "    </tr>\n",
       "  </thead>\n",
       "  <tbody>\n",
       "    <tr>\n",
       "      <th>0</th>\n",
       "      <td>0</td>\n",
       "      <td>0</td>\n",
       "      <td>1</td>\n",
       "      <td>1</td>\n",
       "      <td>Temporal sequences of brain activity at rest a...</td>\n",
       "      <td>1</td>\n",
       "      <td>0</td>\n",
       "      <td>10.1038/s42003-020-0961-x</td>\n",
       "      <td>0</td>\n",
       "      <td>1</td>\n",
       "      <td>1</td>\n",
       "      <td>1</td>\n",
       "    </tr>\n",
       "    <tr>\n",
       "      <th>1</th>\n",
       "      <td>0</td>\n",
       "      <td>0</td>\n",
       "      <td>1</td>\n",
       "      <td>0</td>\n",
       "      <td>Models of communication and control for brain ...</td>\n",
       "      <td>1</td>\n",
       "      <td>arXiv:2002.07029</td>\n",
       "      <td>0</td>\n",
       "      <td>1</td>\n",
       "      <td>1</td>\n",
       "      <td>1</td>\n",
       "      <td>1</td>\n",
       "    </tr>\n",
       "    <tr>\n",
       "      <th>2</th>\n",
       "      <td>0</td>\n",
       "      <td>0</td>\n",
       "      <td>1</td>\n",
       "      <td>1</td>\n",
       "      <td>Segregation of default mode from frontoparieta...</td>\n",
       "      <td>1</td>\n",
       "      <td>0</td>\n",
       "      <td>10.31234/osf.io/ncwef</td>\n",
       "      <td>1</td>\n",
       "      <td>0</td>\n",
       "      <td>1</td>\n",
       "      <td>1</td>\n",
       "    </tr>\n",
       "    <tr>\n",
       "      <th>3</th>\n",
       "      <td>1</td>\n",
       "      <td>0</td>\n",
       "      <td>1</td>\n",
       "      <td>0</td>\n",
       "      <td>Women in immunology: 2020 and beyond</td>\n",
       "      <td>0</td>\n",
       "      <td>0</td>\n",
       "      <td>10.1038/s41590-020-0618-4</td>\n",
       "      <td>0</td>\n",
       "      <td>1</td>\n",
       "      <td>0</td>\n",
       "      <td>0</td>\n",
       "    </tr>\n",
       "    <tr>\n",
       "      <th>4</th>\n",
       "      <td>1</td>\n",
       "      <td>0</td>\n",
       "      <td>1</td>\n",
       "      <td>0</td>\n",
       "      <td>Efficient Coding in the Economics of Human Bra...</td>\n",
       "      <td>1</td>\n",
       "      <td>arXiv:2001.05078</td>\n",
       "      <td>0</td>\n",
       "      <td>1</td>\n",
       "      <td>1</td>\n",
       "      <td>0</td>\n",
       "      <td>1</td>\n",
       "    </tr>\n",
       "  </tbody>\n",
       "</table>\n",
       "</div>"
      ],
      "text/plain": [
       "   paper_opencitations  code_opencitations  paper_googlescholar  \\\n",
       "0                    0                   0                    1   \n",
       "1                    0                   0                    1   \n",
       "2                    0                   0                    1   \n",
       "3                    1                   0                    1   \n",
       "4                    1                   0                    1   \n",
       "\n",
       "   code_googlescholar                                              title  \\\n",
       "0                   1  Temporal sequences of brain activity at rest a...   \n",
       "1                   0  Models of communication and control for brain ...   \n",
       "2                   1  Segregation of default mode from frontoparieta...   \n",
       "3                   0               Women in immunology: 2020 and beyond   \n",
       "4                   0  Efficient Coding in the Economics of Human Bra...   \n",
       "\n",
       "   bassett_author             arxiv                        doi  preprint  \\\n",
       "0               1                 0  10.1038/s42003-020-0961-x         0   \n",
       "1               1  arXiv:2002.07029                          0         1   \n",
       "2               1                 0      10.31234/osf.io/ncwef         1   \n",
       "3               0                 0  10.1038/s41590-020-0618-4         0   \n",
       "4               1  arXiv:2001.05078                          0         1   \n",
       "\n",
       "   paper_citation  code_citation  diversity_statement  \n",
       "0               1              1                    1  \n",
       "1               1              1                    1  \n",
       "2               0              1                    1  \n",
       "3               1              0                    0  \n",
       "4               1              0                    1  "
      ]
     },
     "execution_count": 1,
     "metadata": {},
     "output_type": "execute_result"
    }
   ],
   "source": [
    "#!usr/bin/bash/python3\n",
    "\n",
    "import pandas as pd\n",
    "import numpy as np\n",
    "from matplotlib import pyplot as plt\n",
    "from matplotlib_venn import venn3_circles, venn3_unweighted\n",
    "from matplotlib_venn import _common, _venn3\n",
    "\n",
    "datafile = '../../data/cleanBib_citations.csv'\n",
    "df = pd.read_csv(datafile)\n",
    "df.head()"
   ]
  },
  {
   "cell_type": "code",
   "execution_count": 2,
   "metadata": {},
   "outputs": [
    {
     "data": {
      "text/plain": [
       "['paper_opencitations',\n",
       " 'code_opencitations',\n",
       " 'paper_googlescholar',\n",
       " 'code_googlescholar',\n",
       " 'title',\n",
       " 'bassett_author',\n",
       " 'arxiv',\n",
       " 'doi',\n",
       " 'preprint',\n",
       " 'paper_citation',\n",
       " 'code_citation',\n",
       " 'diversity_statement']"
      ]
     },
     "execution_count": 2,
     "metadata": {},
     "output_type": "execute_result"
    }
   ],
   "source": [
    "list(df.columns)"
   ]
  },
  {
   "cell_type": "code",
   "execution_count": 3,
   "metadata": {},
   "outputs": [],
   "source": [
    "def venn_of_df(df):\n",
    "    subsets = []\n",
    "    for col in df.columns:\n",
    "        s = set(df.index[df[col] > 0].tolist())\n",
    "        subsets.append(s)\n",
    "\n",
    "    labels = [label.replace('_', ' ').capitalize() for label in df.columns]\n",
    "\n",
    "    v = venn3_unweighted(subsets, set_labels=labels)\n",
    "    areas = (1, 1, 1, 1, 1, 1, 1)\n",
    "    centers, radii = _venn3.solve_venn3_circles(areas)\n",
    "    ax = plt.gca()\n",
    "    _common.prepare_venn_axes(ax, centers, radii)"
   ]
  },
  {
   "cell_type": "code",
   "execution_count": 4,
   "metadata": {},
   "outputs": [
    {
     "data": {
      "image/png": "[encoded data removed]",
      "text/plain": [
       "<Figure size 432x288 with 1 Axes>"
      ]
     },
     "metadata": {},
     "output_type": "display_data"
    }
   ],
   "source": [
    "cols = ['paper_citation', 'code_citation', 'diversity_statement']   \n",
    "venn_of_df(df[cols])\n",
    "plt.title('Counts of whether papers contain \\n' +\\\n",
    "          'a diversity statement, a citation of the paper, \\n' +\\\n",
    "          'and/or a citation of the preprint', fontsize=14)\n",
    "plt.tight_layout()\n",
    "plt.savefig('../../reports/figures/venn_diagram_content.png')"
   ]
  },
  {
   "cell_type": "code",
   "execution_count": 5,
   "metadata": {},
   "outputs": [
    {
     "data": {
      "image/png": "[encoded data removed]",
      "text/plain": [
       "<Figure size 432x288 with 1 Axes>"
      ]
     },
     "metadata": {},
     "output_type": "display_data"
    }
   ],
   "source": [
    "plt.figure()\n",
    "cols = ['paper_opencitations',\n",
    " 'paper_googlescholar',\n",
    " 'code_googlescholar']\n",
    "venn_of_df(df[cols])\n",
    "plt.title('Where did we find the papers? \\n', fontsize=14)\n",
    "plt.tight_layout()\n",
    "plt.savefig('../../reports/figures/venn_diagram_sources.png')"
   ]
  },
  {
   "cell_type": "code",
   "execution_count": 6,
   "metadata": {},
   "outputs": [
    {
     "name": "stdout",
     "output_type": "stream",
     "text": [
      "10 preprints, 3 journal articles\n"
     ]
    }
   ],
   "source": [
    "n_preprints = df['preprint'].sum()\n",
    "n_articles = len(df) - df['preprint'].sum()\n",
    "print(f'{n_preprints} preprints, {n_articles} journal articles')"
   ]
  },
  {
   "cell_type": "code",
   "execution_count": 7,
   "metadata": {},
   "outputs": [
    {
     "name": "stdout",
     "output_type": "stream",
     "text": [
      "10 including Dani Bassett as an author, 3 not\n"
     ]
    }
   ],
   "source": [
    "n_by_bassett = df['bassett_author'].sum()\n",
    "n_not_by_bassett = len(df) - n_by_bassett\n",
    "print(f'{n_by_bassett} including Dani Bassett as an author, {n_not_by_bassett} not')"
   ]
  }
 ],
 "metadata": {
  "jupytext": {
   "formats": "ipynb,py:light"
  },
  "kernelspec": {
   "display_name": "Python 3",
   "language": "python",
   "name": "python3"
  },
  "language_info": {
   "codemirror_mode": {
    "name": "ipython",
    "version": 3
   },
   "file_extension": ".py",
   "mimetype": "text/x-python",
   "name": "python",
   "nbconvert_exporter": "python",
   "pygments_lexer": "ipython3",
   "version": "3.7.3"
  }
 },
 "nbformat": 4,
 "nbformat_minor": 4
}
